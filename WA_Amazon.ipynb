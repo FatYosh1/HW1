{
 "cells": [
  {
   "cell_type": "code",
   "execution_count": 1,
   "id": "b45ab7a0",
   "metadata": {},
   "outputs": [],
   "source": [
    "import time\n",
    "import pandas as pd\n",
    "from bs4 import BeautifulSoup\n",
    "from selenium import webdriver\n",
    "from selenium.webdriver.chrome.service import Service\n",
    "from selenium.common.exceptions import NoSuchElementException\n",
    "from selenium.webdriver.common.by import By\n",
    "from selenium.webdriver.common.keys import Keys"
   ]
  },
  {
   "cell_type": "code",
   "execution_count": 2,
   "id": "f7ba1a7f",
   "metadata": {},
   "outputs": [],
   "source": [
    "path = \"/usr/local/bin/chromedriver\"\n",
    "s=Service(path)"
   ]
  },
  {
   "cell_type": "code",
   "execution_count": 52,
   "id": "7e7af98a",
   "metadata": {},
   "outputs": [],
   "source": [
    "#fire up the browser\n",
    "browser = webdriver.Chrome(service=s)"
   ]
  },
  {
   "cell_type": "code",
   "execution_count": 53,
   "id": "8a4bfd9a",
   "metadata": {},
   "outputs": [],
   "source": [
    "#go to amazon\n",
    "link = 'https://www.amazon.com/'\n",
    "browser.get(link)"
   ]
  },
  {
   "cell_type": "code",
   "execution_count": 54,
   "id": "43028df0",
   "metadata": {},
   "outputs": [],
   "source": [
    "#the product name\n",
    "product = 'Over-Ear Headphones'\n",
    "\n",
    "#put it in the search bar\n",
    "browser.find_element(By.XPATH, '//*[@id=\"twotabsearchtextbox\"]').send_keys(product)\n",
    "time.sleep(4)\n",
    "\n",
    "#press enter\n",
    "browser.find_element(By.XPATH, '//*[@id=\"twotabsearchtextbox\"]').send_keys(Keys.ENTER)\n",
    "time.sleep(4)\n"
   ]
  },
  {
   "cell_type": "code",
   "execution_count": 55,
   "id": "48631d02",
   "metadata": {},
   "outputs": [],
   "source": [
    "# a helper function to check if the button exists on the page\n",
    "def check_exists_by_xpath(xpath):\n",
    "    try:\n",
    "        browser.find_element(By.XPATH,xpath)\n",
    "    except NoSuchElementException:\n",
    "        return False\n",
    "    return True"
   ]
  },
  {
   "cell_type": "code",
   "execution_count": 56,
   "id": "0a8148cb",
   "metadata": {},
   "outputs": [],
   "source": [
    "#click the tab 1 star and above\n",
    "browser.find_element(By.XPATH, '//*[@id=\"p_72/1248882011\"]/span/a').click()"
   ]
  },
  {
   "cell_type": "code",
   "execution_count": 57,
   "id": "d25e0b5f",
   "metadata": {},
   "outputs": [
    {
     "name": "stdout",
     "output_type": "stream",
     "text": [
      "https://www.amazon.com/s?k=Over-Ear+Headphones&rh=n%3A172282%2Cp_72%3A1248882011&dc&ds=v1%3AxhBXM69GOIMyIy8fipb39k%2FAl1bp0Ip3GvUEXFVRZ3U&crid=X8TI5A4VHEDY&qid=1671167589&rnid=1248877011&sprefix=over-ear+headphones%2Caps%2C2069&ref=sr_nr_p_72_4\n"
     ]
    }
   ],
   "source": [
    "#store the url of products rated as 1 star and above\n",
    "url2 = browser.current_url\n",
    "print(url2)"
   ]
  },
  {
   "cell_type": "code",
   "execution_count": 58,
   "id": "1e88e671",
   "metadata": {},
   "outputs": [
    {
     "name": "stdout",
     "output_type": "stream",
     "text": [
      "The review of this product ends at page 2\n"
     ]
    }
   ],
   "source": [
    "list_of_lists = list()\n",
    "\n",
    "#set implicit wait time\n",
    "browser.implicitly_wait(10)\n",
    "\n",
    "#5 pages of product review, each page has 10 reviews, ideally 50 reviews for each product, 1500 reviews in total\n",
    "k_pages = 5\n",
    "\n",
    "#going thru all products\n",
    "for n in range(30):\n",
    "    print(f'Going thru product {n+1}')\n",
    "    time.sleep(2)\n",
    "    browser.get(url2)\n",
    "    time.sleep(2)\n",
    "    \n",
    "    #30 products stored in a list, we are going to url2 and click on each product using a for loop\n",
    "    list_products = browser.find_elements(By.XPATH, '//div[@class = \"s-product-image-container aok-relative s-image-overlay-grey s-text-center s-padding-left-small s-padding-right-small s-flex-expand-height\"]')\n",
    "    time.sleep(2)\n",
    "    \n",
    "    #click the nth product\n",
    "    list_products[n].click()\n",
    "    time.sleep(2)\n",
    "    \n",
    "    #click to see all reviews\n",
    "    browser.find_elements(By.XPATH, '//a[@class=\"a-link-emphasis a-text-bold\"]')[-1].click()\n",
    "    time.sleep(2)\n",
    "\n",
    "    # go thru all review pages\n",
    "    for i in range(k_pages):\n",
    "        list_author = list()\n",
    "        list_review = list()\n",
    "        list_date = list()\n",
    "        list_rating = list()\n",
    "\n",
    "        #parse to a soup\n",
    "        page_source = browser.page_source\n",
    "        soup = BeautifulSoup(page_source, 'lxml')\n",
    "        \n",
    "        # find all 10 reviews on one page\n",
    "        reviews_content = soup.find_all('div', class_='a-section review aok-relative')\n",
    "        time.sleep(3)\n",
    "\n",
    "        # for each review, find corresponding author, content, date and rating\n",
    "        for review in reviews_content:\n",
    "            author = review.find('div', class_='a-profile-content').text\n",
    "            list_author.append(author)\n",
    "\n",
    "            txt = review.find('div', class_='a-row a-spacing-small review-data').text\n",
    "            list_review.append(txt)\n",
    "\n",
    "            date = review.find('span', class_='a-size-base a-color-secondary review-date').text.split()[-3:]\n",
    "            list_date.append(date)\n",
    "\n",
    "            rating_line = review.find('span', class_='a-icon-alt')\n",
    "            rating = rating_line.text.split()[0]\n",
    "            list_rating.append(rating)\n",
    "\n",
    "        for j in range(len(list_rating)):\n",
    "                list_info = list()\n",
    "                list_info.append(list_review[j])\n",
    "                list_info.append(list_rating[j])\n",
    "                list_info.append(list_author[j])\n",
    "                list_info.append(list_date[j])\n",
    "                list_of_lists.append(list_info)\n",
    "\n",
    "        time.sleep(2)\n",
    "        if check_exists_by_xpath('//li[@class=\"a-disabled a-last\"]'):\n",
    "            print(f'The review of this product ends at page {i+1}')\n",
    "            break\n",
    "            time.sleep(2)\n",
    "        else:\n",
    "            browser.find_element(By.XPATH,'//*[@id=\"cm_cr-pagination_bar\"]/ul/li[2]/a').click()\n",
    "            time.sleep(2)"
   ]
  },
  {
   "cell_type": "code",
   "execution_count": 59,
   "id": "511e8eb0",
   "metadata": {},
   "outputs": [
    {
     "name": "stdout",
     "output_type": "stream",
     "text": [
      "1467\n"
     ]
    }
   ],
   "source": [
    "print(len(list_of_lists))\n"
   ]
  },
  {
   "cell_type": "code",
   "execution_count": 61,
   "id": "61201134",
   "metadata": {},
   "outputs": [],
   "source": [
    "#dataframe with column names\n",
    "col_name = ['Review', 'Rating', 'Author', 'Date']\n",
    "df = pd.DataFrame(list_of_lists,columns=col_name)"
   ]
  },
  {
   "cell_type": "code",
   "execution_count": 62,
   "id": "8fb0adea",
   "metadata": {},
   "outputs": [
    {
     "data": {
      "text/plain": [
       "'/Users/yijiexu/Documents/WebAnalytics/Group Project'"
      ]
     },
     "execution_count": 62,
     "metadata": {},
     "output_type": "execute_result"
    }
   ],
   "source": [
    "%pwd"
   ]
  },
  {
   "cell_type": "code",
   "execution_count": 63,
   "id": "0689ff9a",
   "metadata": {},
   "outputs": [],
   "source": [
    "#export the df to csv file\n",
    "df.to_csv('WA_Amazon_RawData.csv')"
   ]
  },
  {
   "cell_type": "code",
   "execution_count": 67,
   "id": "df8d8285",
   "metadata": {},
   "outputs": [
    {
     "data": {
      "text/plain": [
       "'\\nIntroduction----------------------------- I love testing headphones, In-ear-monitors, earphones, earbuds, earwax (jkjk)...ya know all of that stuff. Recently I picked up a pair of Philips SHP9500S (Note the \"S\" refers to the new version as the original 9500 was discontinued years ago). These were originally intended as a replacement for my broken gaming headphones, but upon receiving them and testing them on music I was extremely surprised with their sonic performance (or quality of their sound). At $70 these are what I would consider to be relatively \"budget friendly\" headphones. What surprised me the most was that even at that price, they competed equally with headphones/earphones/IEMs upwards of 3x that price point. Now I understand that these are Open-Back headphones and aren\\'t suitable for everyone\\'s needs (more on that later) and that the sound signature/style of sound is not traditional to what people are accustomed to hearing (again...more on this later). So without further ado, let\\'s dig into this shall we?Build Quality----------------------------- Not much to say other than BRAVO Philips...At $70 I couldn\\'t be sure what to expect from full sized Over-Ear headphones, but I was very impressed with the quality of materials that Philips chose to use in the design/manufacturing of these headphones. The headphones are constructed with relatively sturdy plastic integrated into an almost perfectly engineered fit design. Not only does the plastic feel well constructed, but every movable joint is engineered to have some degree of resistance giving it a much more premium feel than many flimsy, loose and poorly constructed headphones. To add to that, the headphones also have a very flush design with little to no excess poke between any given part and only a 3mm offset at the most where the driver/speaker tilts forward or back to conform to the persons\\' head. Last but not least, the slide adjustment points at the top-sides of the headband are made with aluminum and a plastic reinforcement plate under it (probably also to aid with sliding)Comfort----------------------------- I\\'ll makes this simple, THEY ARE THE MOST COMFORTABLE HEADPHONES I\\'VE EVER USED! You know when headphones claim to be \"Over the Ear\", but they\\'re really just large On Ear Headphones...? Yea well these headphones literally are OVER the ears! Unless you have Dumbo sized ears, then your ears will completely fit inside the earpads with the padded ring all the way around your ears (The way Over the Ear headphones are suppose to be). Not only that the brilliant engineers at PhilipsSound also thought it would be great to make the padding at the top of the headphones detached from the headband. Not only does this prevent stretching damage to the the padding, but it also acts as suspension space between the users\\' head and the headband adding to the great comfort! The headphone clamp force (elastic force used to keep the headphone \"clamped\" on to the head) is rather loose so this may or may not be good depending on your head size. While the clamp force is very pleasing and causes zero fatigue or headaches, it is important to note that they could fall off more easily when leaning forward or back on smaller heads.Sound Quality----------------------------*HIGHS*- The highs are quite fantastic in that they are very revealing in terms of detail retrieval without being harsh or sibilant (piercing). I would consider them to be warmer/smoother than most headphones in the $100-200 category with Sennheiser being the only exception. In general, the highs are consistent across all genres of music in that they\\'re there to say hello and be present, but not overbearing and fatiguing like some headphones are.*MIDS*- This is where it\\'s at!! The mids on these are INCREDIBLE! Because these headphones are made to have more neutral/reference style sound signature, the mids are well presented in the body of its sound. Vocals are crystal clear regardless of your genre! I listened to everything from indie alternative, tropical house, rap, r&b, rock, you name it! It honestly doesn\\'t matter what you play, everything sounds super clear and in some instances it almost sounds live depending on the recording. Any instruments will be brought forward to your attention while still remaining behaved and in line with everything else at an equal intensity level (not over emphasized).*LOWS/BASS*- This is the most controversial section by FAR but hear me out...everything you understand about bass is not \"incorrect\" but rather \"shaped\" metaphorical also to the sound signatures of a large majority of headphones in the mainstream market. What I mean by this is that a large majority of headphones you\\'ve used have what the industry considers to be a \"pop sound\" aka: V-Shaped (or U-Shaped) sound. This basically means that most headphones emphasize low/bass and highs. In the case of the SHP9500S, there are lows/bass, but not in the way most of you are accustomed to. The lows/bass on these are present and impactful, but also tight with very little decay time (they don\\'t stick around for long). In these headphones the lows/bass are there to add to the dimension of the sound to create an overall experience rather than become the focus of the experience...if that makes sense. If you\\'re dead set on hearing a rumble and prefer that experience, then these are not the headphones for you. HOWEVER! If you\\'re interested in trying something new and hearing your music in a completely different way, then the SHP9500s are tuned to give you the opportunity to hear everything else that a \"pop sounding\" headphone won\\'t offer you.*Sound Stage*- This might be a brand new category for some of you because a good portion of you have probably only ever used earphones or closed back headphones which have a very intimate sounding experience. Even earphones/closed back headphones that claim to have a \"large sound stage\" are COMPLETELY different than that of an Open Back headphone. To put it simply, sound stage refers to how \"open\" and how real to hearing music \"on stage\" headphones can reproduce. The bigger the sound stage, the more life like and real it typically sounds. The SHP9500S is not the largest sounding open back headphone on the market, but it is considered to be 90% close to what open back headphones in the $300 offer and 100% competitive to open back headphones in the $150-250 range. Basically they\\'re REALLY good overall and EXCELLENT for their price! The sound stage is open and detailed enough to give you the experience of being in the recording room with the artists which is a super fun and exciting experience! I like to consider the sound stage to be open enough to pick out instrumental positions while still being intimate enough to sound like a private performance just for you!*Sound Leakage*- I\\'m not here to hide this fact...they are VERY loud! If you\\'re in a room with other people and you plan to play music at 60%+ on any device...everyone in the room will hear what you\\'re listening to clearly. These are open back headphones and nothing is there to block the sound coming in or coming out...simple as that. Don\\'t expect to be volume conscious with these because either way, it\\'s still audible from the outside. If you have your own room and or you have a secluded space to listen using these, then these are perfect! OR you can let your roommates try these, they\\'ll fall in love and then if you convince all your roommates to get one too and invest into a large aux 3.5mm splitter for everyone to connect to, then all of you can share the SUPERB experience...problem solved! Ohh...if you have annoying siblings and want to torture them with forcefully making them hear your infinitely better taste in music, you can play these at full blast and watch the expression on their face change from a smirk to anger! CAUTION...they may try to steal it if they get a chance to put them on and listen. (I am not liable for any stolen headphones)Conclusion----------------------------- at $60-70 the Philips SHP9500S is a GREAT investment! They are the perfect headphones for people looking to hear 90% of what those expensive $400+ \"audiophile\" headphones sound like at only a small fraction of the cost! I think that these headphones can also be a great alternative to buying speakers to watch movies or listen to music because you get a very similar listening experience to that of relatively decent speaker system (due to the sound stage) in a much smaller package that\\'s also portable. If you\\'re tired of hearing the same style of sound from every headphone and want to take a step into a completely different experience, then I HIGHLY recommend these! I promise you that if you\\'re looking for a fantastic experience where you\\'ll get to sit and re-listen to ANYTHING AND EVERYTHING to hear the difference, then THESE ARE FOR YOU!!\\n'"
      ]
     },
     "execution_count": 67,
     "metadata": {},
     "output_type": "execute_result"
    }
   ],
   "source": [
    "df.iloc[1]['Review']"
   ]
  },
  {
   "cell_type": "code",
   "execution_count": 25,
   "id": "e9f37504",
   "metadata": {},
   "outputs": [],
   "source": [
    "browser.quit()"
   ]
  }
 ],
 "metadata": {
  "kernelspec": {
   "display_name": "Python 3 (ipykernel)",
   "language": "python",
   "name": "python3"
  },
  "language_info": {
   "codemirror_mode": {
    "name": "ipython",
    "version": 3
   },
   "file_extension": ".py",
   "mimetype": "text/x-python",
   "name": "python",
   "nbconvert_exporter": "python",
   "pygments_lexer": "ipython3",
   "version": "3.9.12"
  }
 },
 "nbformat": 4,
 "nbformat_minor": 5
}
